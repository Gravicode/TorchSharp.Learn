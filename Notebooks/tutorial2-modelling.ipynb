{
 "cells": [
  {
   "cell_type": "markdown",
   "metadata": {},
   "source": [
    "Jika pakai CPU gunakan kode dibawah ini"
   ]
  },
  {
   "cell_type": "code",
   "execution_count": null,
   "metadata": {
    "dotnet_interactive": {
     "language": "csharp"
    },
    "vscode": {
     "languageId": "dotnet-interactive.csharp"
    }
   },
   "outputs": [
    {
     "data": {
      "text/html": [
       "<div><div></div><div></div><div><strong>Installed Packages</strong><ul><li><span>TorchSharp-cpu, 0.96.6</span></li></ul></div></div>"
      ]
     },
     "metadata": {},
     "output_type": "display_data"
    }
   ],
   "source": [
    "#r \"nuget: TorchSharp-cpu\"\n",
    "\n",
    "using TorchSharp;\n",
    "using static TorchSharp.torch;\n",
    "using static TorchSharp.torch.nn;\n",
    "using static TorchSharp.torch.nn.functional;\n",
    "using Microsoft.DotNet.Interactive.Formatting;\n",
    "using static TorchSharp.TensorExtensionMethods;\n",
    "using static TorchSharp.torch.distributions;\n",
    "using Microsoft.DotNet.Interactive.Formatting;\n",
    "\n",
    "var style = TensorStringStyle.Julia;\n",
    "\n",
    "//untuk formatting saat show isi variabel tensor\n",
    "Formatter.SetPreferredMimeTypesFor(typeof(torch.Tensor), \"text/plain\");\n",
    "Formatter.Register<torch.Tensor>((torch.Tensor x) => x.ToString(style, newLine: \"\\n\"));"
   ]
  },
  {
   "cell_type": "markdown",
   "metadata": {},
   "source": [
    "Jika pakai GPU gunakan kode di bawah ini"
   ]
  },
  {
   "cell_type": "code",
   "execution_count": null,
   "metadata": {
    "dotnet_interactive": {
     "language": "csharp"
    },
    "vscode": {
     "languageId": "dotnet-interactive.csharp"
    }
   },
   "outputs": [],
   "source": [
    "#r \"nuget: TorchSharp-cuda-windows\"\n",
    "\n",
    "using TorchSharp;\n",
    "using static TorchSharp.torch;\n",
    "using static TorchSharp.torch.nn;\n",
    "using static TorchSharp.torch.nn.functional;\n",
    "using Microsoft.DotNet.Interactive.Formatting;\n",
    "using static TorchSharp.TensorExtensionMethods;\n",
    "using static TorchSharp.torch.distributions;\n",
    "using Microsoft.DotNet.Interactive.Formatting;\n",
    "\n",
    "var style = TensorStringStyle.Julia;\n",
    "\n",
    "Formatter.SetPreferredMimeTypesFor(typeof(torch.Tensor), \"text/plain\");\n",
    "Formatter.Register<torch.Tensor>((torch.Tensor x) => x.ToString(style, newLine: \"\\n\"));"
   ]
  },
  {
   "cell_type": "markdown",
   "metadata": {},
   "source": [
    "## Modelling\n",
    "Ini adalah fungsi utama dari library torchsharp, yaitu membuat model machine/deep learning. "
   ]
  },
  {
   "cell_type": "code",
   "execution_count": null,
   "metadata": {
    "dotnet_interactive": {
     "language": "csharp"
    },
    "vscode": {
     "languageId": "dotnet-interactive.csharp"
    }
   },
   "outputs": [
    {
     "name": "stdout",
     "output_type": "stream",
     "text": [
      "Referensi dari Label:\r\n",
      "[100], type = Int64, device = cpu\n",
      " 2 1 2 1 1 0 2 1 1 0 1 2 0 2 0 2 2 1 0 2 0 1 1 1 0 2 1 2 0 0 2 2 1 0 0 1 1 0 0 1 2 2 2 1 0 2 0 0 ...\n",
      "\r\n",
      "Hasil Prediksi model:\r\n",
      "[100], type = Int64, device = cpu\n",
      " 2 0 2 1 2 0 1 2 1 0 2 2 1 1 2 0 2 0 1 1 0 0 0 1 0 0 2 1 2 2 2 2 1 2 0 0 2 2 0 0 2 0 2 0 1 1 0 2 ...\n",
      "\r\n",
      "Akurasi: 45 %\r\n",
      "model disimpan, lalu di load kembali. Cek akurasi:\r\n",
      "Referensi dari Label:\r\n",
      "[100], type = Int64, device = cpu\n",
      " 2 1 2 1 1 0 2 1 1 0 1 2 0 2 0 2 2 1 0 2 0 1 1 1 0 2 1 2 0 0 2 2 1 0 0 1 1 0 0 1 2 2 2 1 0 2 0 0 ...\n",
      "\r\n",
      "Hasil Prediksi model:\r\n",
      "[100], type = Int64, device = cpu\n",
      " 1 2 2 1 2 0 1 1 1 0 0 2 1 2 2 0 0 0 0 0 0 0 0 0 2 1 2 0 2 2 2 0 0 2 0 2 2 1 0 0 2 1 2 0 1 1 0 2 ...\n",
      "\r\n",
      "Akurasi: 46 %\r\n"
     ]
    }
   ],
   "source": [
    "public class NeuralModel : Module\n",
    "    {\n",
    "        //bikin NeuralNetwork dengan 3 layer : input, hidden dan output\n",
    "        private Module InputLayer = Linear(4, 64); //4 node input\n",
    "        private Module HiddenLayer = Linear(64, 64); // 64 node hidden layer\n",
    "        private Module OutputLayer = Linear(64, 3); //3 node output\n",
    "        //relu salah satu jenis activation function, cek disini: https://pytorch.org/docs/stable/nn.functional.html\n",
    "        private Module relu1 = ReLU();\n",
    "        //untuk menghindari terjadinya overfitting, bisa juga dengan regularization (weight_decay)\n",
    "        private Module dropout1 = Dropout(0.25);\n",
    "\n",
    "        public NeuralModel(torch.Device device = null) : base(\"NeuralModel\")\n",
    "        {\n",
    "            RegisterComponents();\n",
    "            //jika menggunakan GPU maka switch model menggunakan CUDA\n",
    "            if (device != null && device.type == DeviceType.CUDA)\n",
    "                this.to(device);\n",
    "        }\n",
    "\n",
    "        public override Tensor forward(Tensor input)\n",
    "        {\n",
    "            var layer1 = InputLayer.forward(input);\n",
    "          \n",
    "            var layer2 = HiddenLayer.forward(layer1);\n",
    "            \n",
    "            var layerRelu = relu1.forward(layer2);\n",
    "\n",
    "            var layerDropOut = dropout1.forward(layerRelu);\n",
    "\n",
    "            var layer3 = OutputLayer.forward(layerDropOut);           \n",
    "\n",
    "            return layer3;\n",
    "        }\n",
    "    }\n",
    "\n",
    "    //fungsi training\n",
    "\n",
    "    void TrainModel(Module model, Tensor Input, Tensor Output, int Epoch=100){\n",
    "        //fungsi loss function, untuk menghitung error antara input dan output. menggunakan mean-squared-error. ref:https://neptune.ai/blog/pytorch-loss-functions\n",
    "        var loss = nn.functional.mse_loss();\n",
    "        //learning rate, semakin besar semakin cepat mereduksi error, semakin kecil semakin detail dan lama proses trainingnya\n",
    "        var learning_rate = 0.01f;\n",
    "        //fungsi optimizer untuk meminimisasi error, https://pytorch.org/docs/stable/optim.html\n",
    "        var optimizer = torch.optim.SGD(model.parameters(), learning_rate);\n",
    "\n",
    "        // iterasi sebanyak epoch\n",
    "        for (int i = 0; i < Epoch; i++) {\n",
    "            using (var d = torch.NewDisposeScope())\n",
    "            {\n",
    "                // hitung loss\n",
    "                using var output = loss(model.forward(Input), Output);\n",
    "\n",
    "                // reset gradien sebelum lakukan back-propagation\n",
    "                model.zero_grad();\n",
    "\n",
    "                // lakukan back-progatation, untuk kalkulasi gradients dan update weight\n",
    "                output.backward();\n",
    "\n",
    "                optimizer.step();\n",
    "            }\n",
    "        }\n",
    "\n",
    "    }\n",
    "\n",
    "\n",
    "    //dengan GPU\n",
    "    //var model = new NeuralModel(torch.CUDA);\n",
    "\n",
    "    //dengan CPU\n",
    "    var model = new NeuralModel();\n",
    "    \n",
    "    //data sample untuk input (features) dan output (label)\n",
    "    var featuresTensor = rand(100,4);\n",
    "    //featuresTensor.print();\n",
    "\n",
    "    var labelTensor = rand(100,3);\n",
    "    //labelTensor.print();\n",
    "\n",
    "    //train model\n",
    "    TrainModel(model,featuresTensor,labelTensor,100);\n",
    "\n",
    "    //hitung akurasi, antara hasil prediksi model dan label data training    \n",
    "    void HitungAkurasi(Module modelNN, Tensor Features, Tensor Labels){\n",
    "    var refMax = Labels.argmax(1);\n",
    "        Console.WriteLine(\"Referensi dari Label:\");\n",
    "        refMax.print();\n",
    "\n",
    "        var predMax = modelNN.forward(Features).argmax(1);\n",
    "        Console.WriteLine(\"Hasil Prediksi model:\");\n",
    "        predMax.print();\n",
    "\n",
    "        var akurasi = (refMax == predMax).sum() / refMax.numel();\n",
    "        Console.WriteLine($\"Akurasi: { (akurasi * 100).item<float>() } %\");\n",
    "    }\n",
    "\n",
    "    HitungAkurasi(model,  featuresTensor, labelTensor);\n",
    "\n",
    "    //save model ke file (berisi weight dari network saja)\n",
    "    model.save(\"weight_model.bin\");\n",
    "\n",
    "    //load model dari file\n",
    "    var model1 = new NeuralModel();\n",
    "    model1.load(\"weight_model.bin\");\n",
    "    Console.WriteLine(\"model disimpan, lalu di load kembali. Cek akurasi:\");\n",
    "    HitungAkurasi(model1,  featuresTensor, labelTensor);\n"
   ]
  },
  {
   "cell_type": "code",
   "execution_count": null,
   "metadata": {
    "dotnet_interactive": {
     "language": "csharp"
    },
    "vscode": {
     "languageId": "dotnet-interactive.csharp"
    }
   },
   "outputs": [
    {
     "name": "stdout",
     "output_type": "stream",
     "text": [
      "Referensi dari Label:\r\n",
      "[100], type = Int64, device = cpu\n",
      " 2 2 0 1 1 0 2 0 2 0 1 1 2 2 2 0 1 2 1 2 0 1 0 0 0 0 2 0 1 2 2 1 0 2 1 2 1 2 1 1 1 0 1 1 0 2 0 1 ...\n",
      "\r\n",
      "Hasil Prediksi model:\r\n",
      "[100], type = Int64, device = cpu\n",
      " 0 0 0 0 0 0 0 0 0 0 0 0 0 0 0 0 0 0 0 0 0 0 0 0 0 0 0 0 0 0 0 0 0 0 0 0 0 0 0 0 0 0 0 0 0 0 0 0 ...\n",
      "\r\n",
      "Akurasi: 33 %\r\n",
      "model disimpan, lalu di load kembali. Cek akurasi:\r\n",
      "Referensi dari Label:\r\n",
      "[100], type = Int64, device = cpu\n",
      " 2 2 0 1 1 0 2 0 2 0 1 1 2 2 2 0 1 2 1 2 0 1 0 0 0 0 2 0 1 2 2 1 0 2 1 2 1 2 1 1 1 0 1 1 0 2 0 1 ...\n",
      "\r\n",
      "Hasil Prediksi model:\r\n",
      "[100], type = Int64, device = cpu\n",
      " 0 0 0 0 0 0 0 0 0 0 0 0 0 0 0 0 0 0 0 0 0 0 0 0 0 0 0 0 0 0 0 0 0 0 0 0 0 0 0 0 0 0 0 0 0 0 0 0 ...\n",
      "\r\n",
      "Akurasi: 33 %\r\n"
     ]
    }
   ],
   "source": [
    "public class NeuralModel2 : Module\n",
    "    {\n",
    "        //bikin NeuralNetwork dengan 3 layer : input, hidden dan output\n",
    "        private Module InputLayer = Linear(4, 64); //4 node input\n",
    "        private Module HiddenLayer = Linear(64, 64); // 64 node hidden layer\n",
    "        private Module OutputLayer = Linear(64, 3); //3 node output\n",
    "        //relu salah satu jenis activation function, cek disini: https://pytorch.org/docs/stable/nn.functional.html\n",
    "        private Module relu1 = ReLU();\n",
    "        //untuk menghindari terjadinya overfitting, bisa juga dengan regularization (weight_decay)\n",
    "        private Module dropout1 = Dropout(0.25);\n",
    "\n",
    "        public NeuralModel2(torch.Device device = null) : base(\"NeuralModel\")\n",
    "        {\n",
    "            RegisterComponents();\n",
    "            //jika menggunakan GPU maka switch model menggunakan CUDA\n",
    "            if (device != null && device.type == DeviceType.CUDA)\n",
    "                this.to(device);\n",
    "        }\n",
    "\n",
    "        public override Tensor forward(Tensor input){\n",
    "            //menggunakan sequential, membuat model yang berurutan dari layer kiri ke kanan\n",
    "            var seq = nn.Sequential((\"input\",InputLayer),(\"hidden\",HiddenLayer),(\"relu\",relu1),(\"dropout\",dropout1),(\"output\",OutputLayer));\n",
    "            return seq.forward(input);\n",
    "        }\n",
    "    }\n",
    "\n",
    "    //fungsi training dengan learning rate scheduler, \n",
    "    //untuk awal training learning rate bagusnya learning rate agak besar biar error cepet berkurang, semakin banyak epoch kita turunkan lr agar semakin detail\n",
    "\n",
    "    void TrainModel(Module model, List<Tensor> Inputs, List<Tensor> Outputs, int Epoch=100){\n",
    "        //fungsi loss function, untuk menghitung error antara input dan output. menggunakan mean-squared-error. ref:https://neptune.ai/blog/pytorch-loss-functions\n",
    "        var loss = nn.functional.mse_loss();\n",
    "        //learning rate, semakin besar semakin cepat mereduksi error, semakin kecil semakin detail dan lama proses trainingnya\n",
    "        var learning_rate = 0.01f;\n",
    "        //fungsi optimizer untuk meminimisasi error, https://pytorch.org/docs/stable/optim.html\n",
    "        var optimizer = torch.optim.Adam(model.parameters(), learning_rate);\n",
    "        //scheduler ubah learning rate setiap epoch\n",
    "        var scheduler = torch.optim.lr_scheduler.StepLR(optimizer, 25, 0.95);\n",
    "\n",
    "        // iterasi sebanyak epoch\n",
    "        for (int i = 0; i < Epoch; i++) {\n",
    "            using (var d = torch.NewDisposeScope())\n",
    "            {\n",
    "                for(int batchCount =0; batchCount<Inputs.Count;batchCount++ ){\n",
    "                    // hitung loss\n",
    "                    using var output = loss(model.forward(Inputs[batchCount]), Outputs[batchCount]);\n",
    "\n",
    "                    // reset gradien sebelum lakukan back-propagation\n",
    "                    model.zero_grad();\n",
    "\n",
    "                    // lakukan back-progatation, untuk kalkulasi gradients dan update weight\n",
    "                    output.backward();\n",
    "\n",
    "                    optimizer.step();\n",
    "                }\n",
    "                scheduler.step();\n",
    "            }\n",
    "        }\n",
    "\n",
    "    }\n",
    "\n",
    "\n",
    "    //dengan GPU\n",
    "    //var model = new NeuralModel2(torch.CUDA);\n",
    "\n",
    "    //dengan CPU\n",
    "    var model = new NeuralModel2();\n",
    "    \n",
    "    //data sample untuk input (features) dan output (label) dengan batch \n",
    "    var featuresTensor = Enumerable.Range(0,16).Select(_ => rand(100,4)).ToList<torch.Tensor>();\n",
    "    //featuresTensor.print();\n",
    "\n",
    "    var labelTensor = Enumerable.Range(0,16).Select(_ => rand(100,3)).ToList<torch.Tensor>();\n",
    "    //labelTensor.print();\n",
    "\n",
    "    //train model\n",
    "    TrainModel(model,featuresTensor[0],labelTensor[0],100);\n",
    "\n",
    "    //hitung akurasi, antara hasil prediksi model dan label data training    \n",
    "    void HitungAkurasi(Module modelNN, Tensor Features, Tensor Labels){\n",
    "    var refMax = Labels.argmax(1);\n",
    "        Console.WriteLine(\"Referensi dari Label:\");\n",
    "        refMax.print();\n",
    "\n",
    "        var predMax = modelNN.forward(Features).argmax(1);\n",
    "        Console.WriteLine(\"Hasil Prediksi model:\");\n",
    "        predMax.print();\n",
    "\n",
    "        var akurasi = (refMax == predMax).sum() / refMax.numel();\n",
    "        Console.WriteLine($\"Akurasi: { (akurasi * 100).item<float>() } %\");\n",
    "    }\n",
    "\n",
    "    HitungAkurasi(model,  featuresTensor[0], labelTensor[0]);\n",
    "\n",
    "    //save model ke file (berisi weight dari network saja)\n",
    "    model.save(\"weight_model2.bin\");\n",
    "\n",
    "    //load model dari file\n",
    "    var model1 = new NeuralModel2();\n",
    "    model1.load(\"weight_model2.bin\");\n",
    "    Console.WriteLine(\"model disimpan, lalu di load kembali. Cek akurasi:\");\n",
    "    HitungAkurasi(model1,  featuresTensor[0], labelTensor[0]);"
   ]
  }
 ],
 "metadata": {
  "kernelspec": {
   "display_name": ".NET (C#)",
   "language": "C#",
   "name": ".net-csharp"
  },
  "language_info": {
   "file_extension": ".cs",
   "mimetype": "text/x-csharp",
   "name": "C#",
   "pygments_lexer": "csharp",
   "version": "9.0"
  },
  "orig_nbformat": 4
 },
 "nbformat": 4,
 "nbformat_minor": 2
}
