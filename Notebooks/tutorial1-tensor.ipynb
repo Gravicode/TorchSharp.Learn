{
 "cells": [
  {
   "cell_type": "markdown",
   "metadata": {},
   "source": [
    " ## Setup library\n",
    " tambah library torchsharp dan tambah beberapa direktif untuk mengakses beberapa class dan fungsi yang dibutuhkan"
   ]
  },
  {
   "cell_type": "code",
   "execution_count": 24,
   "metadata": {
    "dotnet_interactive": {
     "language": "csharp"
    },
    "vscode": {
     "languageId": "csharp"
    }
   },
   "outputs": [
    {
     "data": {
      "text/html": [
       "<div><div></div><div></div><div><strong>Installed Packages</strong><ul><li><span>TorchSharp-cpu, 0.96.6</span></li></ul></div></div>"
      ]
     },
     "metadata": {},
     "output_type": "display_data"
    }
   ],
   "source": [
    "#r \"nuget: TorchSharp-cpu\"\n",
    "using TorchSharp;\n",
    "using static TorchSharp.TensorExtensionMethods;\n",
    "using static TorchSharp.torch;\n",
    "using static TorchSharp.torch.nn;\n",
    "using static TorchSharp.torch.nn.functional;\n",
    "using Microsoft.DotNet.Interactive.Formatting;\n",
    "using static TorchSharp.torch.distributions;\n",
    "\n",
    "\n",
    "var style = TensorStringStyle.Julia;\n",
    "\n",
    "//untuk formatting saat show isi variabel tensor\n",
    "Formatter.SetPreferredMimeTypesFor(typeof(torch.Tensor), \"text/plain\");\n",
    "Formatter.Register<torch.Tensor>((torch.Tensor x) => x.ToString(style, newLine: \"\\n\"));"
   ]
  },
  {
   "cell_type": "markdown",
   "metadata": {},
   "source": [
    "### tensors \n",
    "\n",
    "struktur data dasar saat menggunakan torchsharp itu adalah tensor, bisa dibayangkan kalau 0D array itu Scalar, 1D array itu vektor, 2D array itu matrix, dan N-dimension array adalah tensor.\n",
    "berikut adalah cara penggunaan tensor dalam torchsharp:"
   ]
  },
  {
   "cell_type": "code",
   "execution_count": 16,
   "metadata": {
    "dotnet_interactive": {
     "language": "csharp"
    },
    "vscode": {
     "languageId": "csharp"
    }
   },
   "outputs": [
    {
     "name": "stdout",
     "output_type": "stream",
     "text": [
      "tensor 2x3\n",
      "[2x3], type = Float32, device = cpu\n",
      " 1 1 1\n",
      " 1 1 1\n",
      "\n",
      "tensor 2x3x4\n",
      "[2x3x4], type = Float32, device = cpu\n",
      "[0,..,..] =\n",
      " 0 0 0 0\n",
      " 0 0 0 0\n",
      " 0 0 0 0\n",
      "\n",
      "[1,..,..] =\n",
      " 0 0 0 0\n",
      " 0 0 0 0\n",
      " 0 0 0 0\n",
      "\n",
      "tensor 3x3\n",
      "[3x3], type = Int64, device = cpu\n",
      " 4 4 4\n",
      " 4 4 4\n",
      " 4 4 4\n",
      "\n",
      "tensor 1x3\n",
      "[1x3], type = Float32, device = cpu\n",
      " 6.7041e-39 1.0653e-38 1.0469e-38\n",
      "\n"
     ]
    }
   ],
   "source": [
    "//inisiasi tensor dengan dimensi 2x3 atau bayangkan seperti tabel dengan 2 baris dan 3 kolom, di isi dengan angka 1\n",
    "Console.WriteLine(\"tensor 2x3\");\n",
    "var t = torch.ones(2,3);\n",
    "t.print();\n",
    "\n",
    "//tensor dengan dimensi 2 x 3 x 4, di isi dengan angka 0\n",
    "Console.WriteLine(\"tensor 2x3x4\");\n",
    "var x = torch.zeros(2,3,4);\n",
    "x.print();\n",
    "\n",
    "//tensor 3x3 di isi dengan angka 4\n",
    "Console.WriteLine(\"tensor 3x3\");\n",
    "var y = torch.full(3,3,4);\n",
    "y.print();\n",
    "\n",
    "//inisiasi tensor dengan dimensi 1x3 \n",
    "Console.WriteLine(\"tensor 1x3\");\n",
    "t = torch.empty(1,3);\n",
    "t.print();\n"
   ]
  },
  {
   "cell_type": "code",
   "execution_count": 17,
   "metadata": {
    "dotnet_interactive": {
     "language": "csharp"
    },
    "vscode": {
     "languageId": "csharp"
    }
   },
   "outputs": [
    {
     "name": "stdout",
     "output_type": "stream",
     "text": [
      "[2x6], type = Int32, device = cpu\n",
      " 5 5 5 5 5 5\n",
      " 0 0 0 0 0 0\n",
      "\n",
      "Isi list:6 item\n",
      "[2x6], type = Float32, device = cpu\n",
      " 1 1 1 1 1 1\n",
      " 1 1 1 1 1 1\n",
      "\n",
      "[2x6], type = Float32, device = cpu\n",
      " 0 0 0 0 0 0\n",
      " 0 0 0 0 0 0\n",
      "\n",
      "[3x4], type = Float32, device = cpu\n",
      " 0.22065 0.63409    0.9958 0.43995\n",
      " 0.89721 0.20242  0.088088  0.3583\n",
      " 0.20541 0.42738 -0.059234 -1.0646\n",
      "\n",
      "[3x4], type = Float32, device = cpu\n",
      " 0.27736 0.35925 0.65187 0.096936\n",
      "  0.9982 0.31815 0.10414  0.16131\n",
      " 0.37161 0.22189 0.86772   0.9104\n",
      "\n",
      "[3x4], type = Int64, device = cpu\n",
      " 62 88 14 37\n",
      " 63 47 51 88\n",
      " 24 80 43 64\n",
      "\n",
      "[11], type = Int64, device = cpu\n",
      " 0 3 5 6 8 2 1 9 7 10 4\n",
      "\n"
     ]
    }
   ],
   "source": [
    "\n",
    "//inisiasi tensor dengan tipe data int32\n",
    "x = torch.zeros(2,6, dtype: torch.int32);\n",
    "//ubah baris pertama jadi angka 5\n",
    "for(int i=0;i<6;i++)\n",
    "    x[0,i] = 5;\n",
    "x.print();\n",
    "\n",
    "//ambil baris kedua, masukan ke list\n",
    "var take = new List<int>();\n",
    "for(int i=0;i<6;i++)\n",
    "    take.Add(x[1,i].item<int>());\n",
    "Console.WriteLine($\"Isi list:{take.Count} item\");\n",
    "\n",
    "//inisiasi tensor dengan tipe data kompleks\n",
    "y = torch.ones(2,6, dtype: torch.complex64);\n",
    "y.real.print();\n",
    "y.imag.print();\n",
    "\n",
    "//isi tensor dengan nilai random (0-1) dengan distribusi normal\n",
    "t = torch.randn(3,4);\n",
    "t.print();\n",
    "\n",
    "//isi tensor dengan nilai random (0-1) dengan distribusi uniform\n",
    "t = torch.rand(3,4);\n",
    "t.print();\n",
    "\n",
    "//isi tensor dengan nilai random dengan tipe integer dan nilai max 100\n",
    "t = torch.randint(100, (3,4));\n",
    "t.print();\n",
    "\n",
    "//isi tensor dengan nilai random dari angka 1-10\n",
    "t = torch.randperm(11);\n",
    "t.print();\n",
    "\n"
   ]
  },
  {
   "cell_type": "code",
   "execution_count": 21,
   "metadata": {
    "vscode": {
     "languageId": "csharp"
    }
   },
   "outputs": [
    {
     "name": "stdout",
     "output_type": "stream",
     "text": [
      "[2x3], type = Float32, device = cpu\n",
      " 0.29611  0.51656 0.25167\n",
      " 0.68856 0.073972 0.86652\n",
      "\n",
      "[2x3], type = Float32, device = cpu\n",
      " 0.29611  0.51656 0.25167\n",
      " 0.68856 0.073972 0.86652\n",
      "\n",
      "[10], type = Int64, device = cpu\n",
      " 1 2 3 4 5 6 7 8 9 10\n",
      "\n",
      "[2x5], type = Int64, device = cpu\n",
      " 1 2 3 4  5\n",
      " 6 7 8 9 10\n",
      "\n",
      "[2x5], type = Int64, device = cpu\n",
      " 1 2 3 4  5\n",
      " 6 7 8 9 10\n",
      "\n",
      "[15], type = Float32, device = cpu\n",
      " 2 2.2 2.4 2.6 2.8 3 3.2 3.4 3.6 3.8 4 4.2 4.4 4.6 4.8\n",
      "\n"
     ]
    }
   ],
   "source": [
    "//dengan seed yang sama akan menghasilkan angka acak yang sama\n",
    "var generator1 = new torch.Generator(123);\n",
    "var generator2 = new torch.Generator(123);\n",
    "\n",
    "var rnd11 = torch.rand(2,3, generator: generator1);\n",
    "rnd11.print();\n",
    "var rnd12 = torch.rand(2,3, generator: generator2);\n",
    "rnd12.print();\n",
    "\n",
    "\n",
    "\n",
    "//arange, bikin tensor dengan nilai urut dari 1 - 10\n",
    "t = torch.arange(1,11);\n",
    "t.print();\n",
    "//reshape, ubah dimensi dari 1d menjadi 2x5\n",
    "t.reshape(2,5).print();\n",
    "//reshape dengan -1, otomatis terisi dengan sisanya\n",
    "t.reshape(-1,5).print();\n",
    "//arange, bikin tensor dengan nilai 2 sampe 5 dengan step 0.2\n",
    "t = torch.arange(2.0f, 5.0f, step: 0.2f).print();"
   ]
  },
  {
   "cell_type": "code",
   "execution_count": 68,
   "metadata": {
    "dotnet_interactive": {
     "language": "csharp"
    },
    "vscode": {
     "languageId": "csharp"
    }
   },
   "outputs": [
    {
     "name": "stdout",
     "output_type": "stream",
     "text": [
      "[2x5], type = Int64, device = cpu\n",
      " 1 2 3 4  5\n",
      " 6 7 8 9 10\n",
      "\n",
      "dimensi: 2\n",
      "jumlah element: 10\n",
      "shape: 2,5\n",
      "[5x2], type = Int64, device = cpu\n",
      " 1  6\n",
      " 2  7\n",
      " 3  8\n",
      " 4  9\n",
      " 5 10\n",
      "\n",
      "[5x2], type = Int64, device = cpu\n",
      " 1  6\n",
      " 2  7\n",
      " 3  8\n",
      " 4  9\n",
      " 5 10\n",
      "\n",
      "total active tensors: 2247\n",
      "Peak Count: 2247\n",
      "[5x2], type = Int64, device = cpu\n",
      " 100  6\n",
      "   2  7\n",
      "   3  8\n",
      "   4  9\n",
      "   5 10\n",
      "\n"
     ]
    },
    {
     "name": "stderr",
     "output_type": "stream",
     "text": [
      "\n",
      "warning CS1701: Assuming assembly reference 'System.Runtime.Numerics, Version=4.1.2.0, Culture=neutral, PublicKeyToken=b03f5f7f11d50a3a' used by 'TorchSharp' matches identity 'System.Runtime.Numerics, Version=6.0.0.0, Culture=neutral, PublicKeyToken=b03f5f7f11d50a3a' of 'System.Runtime.Numerics', you may need to supply runtime policy\n",
      "\n"
     ]
    }
   ],
   "source": [
    "t = torch.arange(1,11).reshape(2,5);\n",
    "t.print();\n",
    "//lihat dimensi tensor\n",
    "Console.WriteLine(\"dimensi: \" + t.ndim);\n",
    "Console.WriteLine(\"jumlah element: \" + t.numel());\n",
    "Console.WriteLine(\"shape: \" + String.Join(',',t.shape));\n",
    "\n",
    "//swith dari CPU ke CUDA (GPU)\n",
    "//var x = t.cuda()\n",
    "\n",
    "//swith dari CUDA (GPU) ke CPU\n",
    "//t = x.cpu()\n",
    "\n",
    "//transpose \n",
    "t = t.T;\n",
    "t.print();\n",
    "\n",
    "//clone\n",
    "var z = t.clone();\n",
    "z.print();\n",
    "\n",
    "//jumlah tensor yang aktif di memory\n",
    "Console.WriteLine($\"total active tensors: {torch.Tensor.TotalCount}\");\n",
    "\n",
    "Console.WriteLine($\"Peak Count: {torch.Tensor.PeakCount}\");\n",
    "\n",
    "var b = z.alias(); //reference ke z\n",
    "b[0,0] = torch.tensor(100);\n",
    "z.print();"
   ]
  },
  {
   "cell_type": "code",
   "execution_count": 44,
   "metadata": {
    "vscode": {
     "languageId": "csharp"
    }
   },
   "outputs": [
    {
     "name": "stdout",
     "output_type": "stream",
     "text": [
      "[2x3], type = Float32, device = cpu\n",
      " 0 1 1\n",
      " 0 0 1\n",
      "\n",
      "[3x3], type = Float32, device = cpu\n",
      " 57 51 45\n",
      " 54 48 59\n",
      " 48 49 49\n",
      "\n",
      "[4], type = Float32, device = cpu\n",
      " 8 32 3 57\n",
      "\n",
      "[3x4], type = Float32, device = cpu\n",
      " 12 22 7 59\n",
      "  6 31 8 55\n",
      "  8 31 6 55\n",
      "\n",
      "[2x2], type = Float32, device = cpu\n",
      " 19.408 16.811\n",
      " 19.837 16.066\n",
      "\n",
      "[2x2], type = Float32, device = cpu\n",
      " 0.67062 0.57671\n",
      " 0.52696 0.52677\n",
      "\n",
      "[2x2x4], type = Float32, device = cpu\n",
      "[0,..,..] =\n",
      " 8 26 11 55\n",
      " 3 32  8 57\n",
      "\n",
      "[1,..,..] =\n",
      " 9 31 3 57\n",
      " 6 33 4 57\n",
      "\n",
      "[10], type = Int64, device = cpu\n",
      " 1 2 2 0 2 2 0 1 1 1\n",
      "\n"
     ]
    },
    {
     "name": "stderr",
     "output_type": "stream",
     "text": [
      "\n",
      "warning CS1701: Assuming assembly reference 'System.Runtime.Numerics, Version=4.1.2.0, Culture=neutral, PublicKeyToken=b03f5f7f11d50a3a' used by 'TorchSharp' matches identity 'System.Runtime.Numerics, Version=6.0.0.0, Culture=neutral, PublicKeyToken=b03f5f7f11d50a3a' of 'System.Runtime.Numerics', you may need to supply runtime policy\n",
      "\n",
      "warning CS1701: Assuming assembly reference 'System.Runtime.Numerics, Version=4.1.2.0, Culture=neutral, PublicKeyToken=b03f5f7f11d50a3a' used by 'TorchSharp' matches identity 'System.Runtime.Numerics, Version=6.0.0.0, Culture=neutral, PublicKeyToken=b03f5f7f11d50a3a' of 'System.Runtime.Numerics', you may need to supply runtime policy\n",
      "\n",
      "warning CS1701: Assuming assembly reference 'System.Runtime.Numerics, Version=4.1.2.0, Culture=neutral, PublicKeyToken=b03f5f7f11d50a3a' used by 'TorchSharp' matches identity 'System.Runtime.Numerics, Version=6.0.0.0, Culture=neutral, PublicKeyToken=b03f5f7f11d50a3a' of 'System.Runtime.Numerics', you may need to supply runtime policy\n",
      "\n",
      "warning CS1701: Assuming assembly reference 'System.Runtime.Numerics, Version=4.1.2.0, Culture=neutral, PublicKeyToken=b03f5f7f11d50a3a' used by 'TorchSharp' matches identity 'System.Runtime.Numerics, Version=6.0.0.0, Culture=neutral, PublicKeyToken=b03f5f7f11d50a3a' of 'System.Runtime.Numerics', you may need to supply runtime policy\n",
      "\n",
      "warning CS1701: Assuming assembly reference 'System.Runtime.Numerics, Version=4.1.2.0, Culture=neutral, PublicKeyToken=b03f5f7f11d50a3a' used by 'TorchSharp' matches identity 'System.Runtime.Numerics, Version=6.0.0.0, Culture=neutral, PublicKeyToken=b03f5f7f11d50a3a' of 'System.Runtime.Numerics', you may need to supply runtime policy\n",
      "\n",
      "warning CS1701: Assuming assembly reference 'System.Runtime.Numerics, Version=4.1.2.0, Culture=neutral, PublicKeyToken=b03f5f7f11d50a3a' used by 'TorchSharp' matches identity 'System.Runtime.Numerics, Version=6.0.0.0, Culture=neutral, PublicKeyToken=b03f5f7f11d50a3a' of 'System.Runtime.Numerics', you may need to supply runtime policy\n",
      "\n",
      "warning CS1701: Assuming assembly reference 'System.Runtime.Numerics, Version=4.1.2.0, Culture=neutral, PublicKeyToken=b03f5f7f11d50a3a' used by 'TorchSharp' matches identity 'System.Runtime.Numerics, Version=6.0.0.0, Culture=neutral, PublicKeyToken=b03f5f7f11d50a3a' of 'System.Runtime.Numerics', you may need to supply runtime policy\n",
      "\n",
      "warning CS1701: Assuming assembly reference 'System.Runtime.Numerics, Version=4.1.2.0, Culture=neutral, PublicKeyToken=b03f5f7f11d50a3a' used by 'TorchSharp' matches identity 'System.Runtime.Numerics, Version=6.0.0.0, Culture=neutral, PublicKeyToken=b03f5f7f11d50a3a' of 'System.Runtime.Numerics', you may need to supply runtime policy\n",
      "\n"
     ]
    }
   ],
   "source": [
    "//bernouli distribution\n",
    "var bern = Bernoulli(torch.tensor(0.25f));\n",
    "var acak1 = bern.sample().item<float>();\n",
    "var acak2 = bern.sample(2,3);\n",
    "acak2.print();\n",
    "\n",
    "//binomial distribution 1/0\n",
    "var bin = Binomial(torch.tensor(100), torch.tensor(0.5f));\n",
    "acak1 = bin.sample().item<float>();\n",
    "acak2 = bin.sample(3,3);\n",
    "acak2.print();\n",
    "\n",
    "//multinonmial 1 to N\n",
    "var mult = Multinomial(100, new float[]{0.1f, 0.5f, 0.1f, 0.9f});\n",
    "mult.sample().print();\n",
    "mult.sample(3).print();\n",
    "\n",
    "//fungsi menghasilkan tensor 2x2 dengan fungsi distribusi yang dinamis\n",
    "torch.Tensor GenerateNumber(Distribution dist) { return dist.sample(2,2);}\n",
    "\n",
    "var norm1 = Normal(torch.tensor(0.5f), torch.tensor(0.125f));\n",
    "var uni = Uniform(torch.tensor(9.0f), torch.tensor(21.0f));\n",
    "GenerateNumber(uni).print();\n",
    "GenerateNumber(norm1).print();\n",
    "GenerateNumber(mult).print();\n",
    "\n",
    "//category, seperti bernouli tapi bisa support 1 ke N category\n",
    "var cat = Categorical(torch.tensor(new float[]{0.1f, 0.2f, 0.3f}));\n",
    "cat.sample(10).print();\n"
   ]
  },
  {
   "cell_type": "markdown",
   "metadata": {},
   "source": [
    "### Operasi Numerik\n",
    "Tensor dapat di operasikan secara matematika dengan operator dan fungsi-fungsi built-in torchsharp, berikut adalah contoh-contohnya:"
   ]
  },
  {
   "cell_type": "code",
   "execution_count": 76,
   "metadata": {
    "dotnet_interactive": {
     "language": "csharp"
    },
    "vscode": {
     "languageId": "csharp"
    }
   },
   "outputs": [
    {
     "name": "stdout",
     "output_type": "stream",
     "text": [
      "[2x5], type = Int64, device = cpu\n",
      " 1 2 3 4  5\n",
      " 6 7 8 9 10\n",
      "\n",
      "[2x5], type = Int64, device = cpu\n",
      " 2 2 2 2 2\n",
      " 2 2 2 2 2\n",
      "\n",
      "[], type = Int32, device = cpu, value = 3\n",
      "[2x5], type = Int64, device = cpu\n",
      "  5  7  9 11 13\n",
      " 15 17 19 21 23\n",
      "\n",
      "[2x5], type = Int64, device = cpu\n",
      "  2  4  6  8 10\n",
      " 12 14 16 18 20\n",
      "\n"
     ]
    },
    {
     "name": "stderr",
     "output_type": "stream",
     "text": [
      "\n",
      "warning CS1701: Assuming assembly reference 'System.Runtime.Numerics, Version=4.1.2.0, Culture=neutral, PublicKeyToken=b03f5f7f11d50a3a' used by 'TorchSharp' matches identity 'System.Runtime.Numerics, Version=6.0.0.0, Culture=neutral, PublicKeyToken=b03f5f7f11d50a3a' of 'System.Runtime.Numerics', you may need to supply runtime policy\n",
      "\n"
     ]
    }
   ],
   "source": [
    "var a = torch.arange(1,11).reshape(2,5);\n",
    "var b = torch.full(2,5,2);\n",
    "var c = torch.tensor(3);\n",
    "//operator, perkalian disini bukan perkalian matrix\n",
    "var d = a * b + c;\n",
    "a.print();\n",
    "b.print();\n",
    "c.print();\n",
    "d.print();\n",
    "\n"
   ]
  },
  {
   "cell_type": "code",
   "execution_count": 90,
   "metadata": {
    "dotnet_interactive": {
     "language": "csharp"
    },
    "vscode": {
     "languageId": "csharp"
    }
   },
   "outputs": [
    {
     "name": "stdout",
     "output_type": "stream",
     "text": [
      "[2x2], type = Int64, device = cpu\n",
      " 1 2\n",
      " 3 4\n",
      "\n",
      "[2x2], type = Int64, device = cpu\n",
      " 1 1\n",
      " 1 1\n",
      "\n",
      "[2x2], type = Int64, device = cpu\n",
      " 3 3\n",
      " 7 7\n",
      "\n",
      "[2x2], type = Int64, device = cpu\n",
      " 2 3\n",
      " 4 5\n",
      "\n",
      "[2x2], type = Int64, device = cpu\n",
      " 3 5\n",
      " 7 9\n",
      "\n"
     ]
    }
   ],
   "source": [
    "\n",
    "//operator matrix\n",
    "a = torch.arange(1,5).reshape(2,2);\n",
    "b = torch.full(2,2,1);\n",
    "a.print();\n",
    "b.print();\n",
    "d = a.mm(b);\n",
    "d.print();\n",
    "\n",
    "//menggunakan in-place operator, bisa di operasikan secara berantai\n",
    "var c = torch.arange(2,6).reshape(2,2);\n",
    "c.print();\n",
    "// a=a*b+c\n",
    "a.mul_(b).add_(c);\n",
    "a.print();"
   ]
  }
 ],
 "metadata": {
  "kernelspec": {
   "display_name": ".NET (C#)",
   "language": "C#",
   "name": ".net-csharp"
  },
  "language_info": {
   "file_extension": ".cs",
   "mimetype": "text/x-csharp",
   "name": "C#",
   "pygments_lexer": "csharp",
   "version": "9.0"
  },
  "orig_nbformat": 4
 },
 "nbformat": 4,
 "nbformat_minor": 2
}
