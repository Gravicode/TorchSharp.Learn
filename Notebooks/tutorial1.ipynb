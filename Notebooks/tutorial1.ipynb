{
 "cells": [
  {
   "cell_type": "markdown",
   "metadata": {},
   "source": [
    " tambah library torchsharp dan tambah beberapa direktif untuk mengakses beberapa class dan fungsi yang dibutuhkan"
   ]
  },
  {
   "cell_type": "code",
   "execution_count": 2,
   "metadata": {
    "vscode": {
     "languageId": "csharp"
    }
   },
   "outputs": [
    {
     "data": {
      "text/html": [
       "<div><div></div><div></div><div><strong>Installed Packages</strong><ul><li><span>TorchSharp-cpu, 0.96.6</span></li></ul></div></div>"
      ]
     },
     "metadata": {},
     "output_type": "display_data"
    }
   ],
   "source": [
    "#r \"nuget: TorchSharp-cpu\"\n",
    "using TorchSharp;\n",
    "using static TorchSharp.TensorExtensionMethods;\n",
    "using static TorchSharp.torch;\n",
    "using static TorchSharp.torch.nn;\n",
    "using static TorchSharp.torch.nn.functional;\n",
    "using Microsoft.DotNet.Interactive.Formatting;\n",
    "\n",
    "var style = TensorStringStyle.Julia;\n",
    "\n",
    "//untuk formatting saat show isi variabel tensor\n",
    "Formatter.SetPreferredMimeTypesFor(typeof(torch.Tensor), \"text/plain\");\n",
    "Formatter.Register<torch.Tensor>((torch.Tensor x) => x.ToString(style, newLine: \"\\n\"));"
   ]
  },
  {
   "cell_type": "markdown",
   "metadata": {},
   "source": [
    "### tensors \n",
    "\n",
    "struktur data dasar saat menggunakan torchsharp itu adalah tensor, bisa dibayangkan kalau 1D array itu vektor, 2D array itu matrix, dan N-dimension array adalah tensor.\n",
    "berikut adalah cara penggunaan tensor dalam torchsharp:"
   ]
  },
  {
   "cell_type": "code",
   "execution_count": 39,
   "metadata": {
    "vscode": {
     "languageId": "csharp"
    }
   },
   "outputs": [
    {
     "name": "stdout",
     "output_type": "stream",
     "text": [
      "tensor 2x3\n",
      "[2x3], type = Float32, device = cpu\n",
      " 1 1 1\n",
      " 1 1 1\n",
      "\n",
      "tensor 2x3x4\n",
      "[2x3x4], type = Float32, device = cpu\n",
      "[0,..,..] =\n",
      " 0 0 0 0\n",
      " 0 0 0 0\n",
      " 0 0 0 0\n",
      "\n",
      "[1,..,..] =\n",
      " 0 0 0 0\n",
      " 0 0 0 0\n",
      " 0 0 0 0\n",
      "\n",
      "tensor 3x3\n",
      "[3x3], type = Int64, device = cpu\n",
      " 4 4 4\n",
      " 4 4 4\n",
      " 4 4 4\n",
      "\n",
      "tensor 1x3\n",
      "[1x3], type = Float32, device = cpu\n",
      " -1.0089e+12 4.5908e-41 -1.0089e+12\n",
      "\n",
      "[2x6], type = Int32, device = cpu\n",
      " 5 5 5 5 5 5\n",
      " 0 0 0 0 0 0\n",
      "\n",
      "Isi list:6 item\n",
      "[3x4], type = Float32, device = cpu\n",
      " 0.14162  1.3017  0.56712 -1.1076\n",
      " -1.8623  1.2615 -0.33357 0.57605\n",
      " 0.85256 0.19109  -0.8632  1.9865\n",
      "\n",
      "[3x4], type = Float32, device = cpu\n",
      " 0.94774 0.97299 0.57297  0.66778\n",
      " 0.57084 0.37077 0.49612 0.014114\n",
      " 0.34109 0.87723 0.66523  0.11111\n",
      "\n",
      "[3x4], type = Int64, device = cpu\n",
      " 20 23 78 74\n",
      " 48 44 86 40\n",
      " 81 38 76 86\n",
      "\n",
      "[10], type = Int64, device = cpu\n",
      " 1 2 3 4 5 6 7 8 9 10\n",
      "\n",
      "[2x5], type = Int64, device = cpu\n",
      " 1 2 3 4  5\n",
      " 6 7 8 9 10\n",
      "\n",
      "[2x5], type = Int64, device = cpu\n",
      " 1 2 3 4  5\n",
      " 6 7 8 9 10\n",
      "\n"
     ]
    }
   ],
   "source": [
    "//inisiasi tensor dengan dimensi 2x3 atau bayangkan seperti tabel dengan 2 baris dan 3 kolom, di isi dengan angka 1\n",
    "Console.WriteLine(\"tensor 2x3\");\n",
    "var t = torch.ones(2,3);\n",
    "t.print();\n",
    "\n",
    "//tensor dengan dimensi 2 x 3 x 4, di isi dengan angka 0\n",
    "Console.WriteLine(\"tensor 2x3x4\");\n",
    "var x = torch.zeros(2,3,4);\n",
    "x.print();\n",
    "\n",
    "//tensor 3x3 di isi dengan angka 4\n",
    "Console.WriteLine(\"tensor 3x3\");\n",
    "var y = torch.full(3,3,4);\n",
    "y.print();\n",
    "\n",
    "//inisiasi tensor dengan dimensi 1x3 \n",
    "Console.WriteLine(\"tensor 1x3\");\n",
    "t = torch.empty(1,3);\n",
    "t.print();\n"
   ]
  },
  {
   "cell_type": "code",
   "execution_count": 65,
   "metadata": {
    "vscode": {
     "languageId": "csharp"
    }
   },
   "outputs": [
    {
     "name": "stdout",
     "output_type": "stream",
     "text": [
      "[2x6], type = Int32, device = cpu\n",
      " 5 5 5 5 5 5\n",
      " 0 0 0 0 0 0\n",
      "\n",
      "Isi list:6 item\n",
      "[2x6], type = Float32, device = cpu\n",
      " 1 1 1 1 1 1\n",
      " 1 1 1 1 1 1\n",
      "\n",
      "[2x6], type = Float32, device = cpu\n",
      " 0 0 0 0 0 0\n",
      " 0 0 0 0 0 0\n",
      "\n",
      "[3x4], type = Float32, device = cpu\n",
      "  1.0641 -1.6747 -0.65685 -1.3233\n",
      " 0.52081 0.86471  -1.4893 -2.1964\n",
      " 0.66509 0.68833 -0.25685 -1.9184\n",
      "\n",
      "[3x4], type = Float32, device = cpu\n",
      "  0.4958 0.022251 0.13707  0.78892\n",
      " 0.61344  0.32792 0.87163  0.71795\n",
      " 0.35465  0.79863 0.57375 0.015317\n",
      "\n",
      "[3x4], type = Int64, device = cpu\n",
      " 59 14 25  3\n",
      " 17 57 21  2\n",
      " 55 72 14 68\n",
      "\n",
      "[10], type = Int64, device = cpu\n",
      " 1 2 3 4 5 6 7 8 9 10\n",
      "\n",
      "[2x5], type = Int64, device = cpu\n",
      " 1 2 3 4  5\n",
      " 6 7 8 9 10\n",
      "\n",
      "[2x5], type = Int64, device = cpu\n",
      " 1 2 3 4  5\n",
      " 6 7 8 9 10\n",
      "\n",
      "[15], type = Float32, device = cpu\n",
      " 2 2.2 2.4 2.6 2.8 3 3.2 3.4 3.6 3.8 4 4.2 4.4 4.6 4.8\n",
      "\n"
     ]
    }
   ],
   "source": [
    "\n",
    "//inisiasi tensor dengan tipe data int32\n",
    "x = torch.zeros(2,6, dtype: torch.int32);\n",
    "//ubah baris pertama jadi angka 5\n",
    "for(int i=0;i<6;i++)\n",
    "    x[0,i] = 5;\n",
    "x.print();\n",
    "\n",
    "//ambil baris kedua, masukan ke list\n",
    "var take = new List<int>();\n",
    "for(int i=0;i<6;i++)\n",
    "    take.Add(x[1,i].item<int>());\n",
    "Console.WriteLine($\"Isi list:{take.Count} item\");\n",
    "\n",
    "//inisiasi tensor dengan tipe data kompleks\n",
    "y = torch.ones(2,6, dtype: torch.complex64);\n",
    "y.real.print();\n",
    "y.imag.print();\n",
    "\n",
    "//isi tensor dengan nilai random (0-1) dengan distribusi normal\n",
    "t = torch.randn(3,4);\n",
    "t.print();\n",
    "\n",
    "//isi tensor dengan nilai random (0-1) dengan distribusi uniform\n",
    "t = torch.rand(3,4);\n",
    "t.print();\n",
    "\n",
    "//isi tensor dengan nilai random dengan tipe integer dan nilai max 100\n",
    "t = torch.randint(100, (3,4));\n",
    "t.print();\n",
    "\n",
    "//arange, bikin tensor dengan nilai urut dari 1 - 10\n",
    "t = torch.arange(1,11);\n",
    "t.print();\n",
    "//reshape, ubah dimensi dari 1d menjadi 2x5\n",
    "t.reshape(2,5).print();\n",
    "//reshape dengan -1, otomatis terisi dengan sisanya\n",
    "t.reshape(-1,5).print();\n",
    "//arange, bikin tensor dengan nilai 2 sampe 5 dengan step 0.2\n",
    "t = torch.arange(2.0f, 5.0f, step: 0.2f).print();"
   ]
  },
  {
   "cell_type": "code",
   "execution_count": 68,
   "metadata": {
    "vscode": {
     "languageId": "csharp"
    }
   },
   "outputs": [
    {
     "name": "stdout",
     "output_type": "stream",
     "text": [
      "[2x5], type = Int64, device = cpu\n",
      " 1 2 3 4  5\n",
      " 6 7 8 9 10\n",
      "\n",
      "dimensi: 2\n",
      "jumlah element: 10\n",
      "shape: 2,5\n",
      "[5x2], type = Int64, device = cpu\n",
      " 1  6\n",
      " 2  7\n",
      " 3  8\n",
      " 4  9\n",
      " 5 10\n",
      "\n",
      "[5x2], type = Int64, device = cpu\n",
      " 1  6\n",
      " 2  7\n",
      " 3  8\n",
      " 4  9\n",
      " 5 10\n",
      "\n",
      "total active tensors: 2247\n",
      "Peak Count: 2247\n",
      "[5x2], type = Int64, device = cpu\n",
      " 100  6\n",
      "   2  7\n",
      "   3  8\n",
      "   4  9\n",
      "   5 10\n",
      "\n"
     ]
    },
    {
     "name": "stderr",
     "output_type": "stream",
     "text": [
      "\n",
      "warning CS1701: Assuming assembly reference 'System.Runtime.Numerics, Version=4.1.2.0, Culture=neutral, PublicKeyToken=b03f5f7f11d50a3a' used by 'TorchSharp' matches identity 'System.Runtime.Numerics, Version=6.0.0.0, Culture=neutral, PublicKeyToken=b03f5f7f11d50a3a' of 'System.Runtime.Numerics', you may need to supply runtime policy\n",
      "\n"
     ]
    }
   ],
   "source": [
    "t = torch.arange(1,11).reshape(2,5);\n",
    "t.print();\n",
    "//lihat dimensi tensor\n",
    "Console.WriteLine(\"dimensi: \" + t.ndim);\n",
    "Console.WriteLine(\"jumlah element: \" + t.numel());\n",
    "Console.WriteLine(\"shape: \" + String.Join(',',t.shape));\n",
    "\n",
    "//swith dari CPU ke CUDA (GPU)\n",
    "//var x = t.cuda()\n",
    "\n",
    "//swith dari CUDA (GPU) ke CPU\n",
    "//t = x.cpu()\n",
    "\n",
    "//transpose \n",
    "t = t.T;\n",
    "t.print();\n",
    "\n",
    "//clone\n",
    "var z = t.clone();\n",
    "z.print();\n",
    "\n",
    "//jumlah tensor yang aktif di memory\n",
    "Console.WriteLine($\"total active tensors: {torch.Tensor.TotalCount}\");\n",
    "\n",
    "Console.WriteLine($\"Peak Count: {torch.Tensor.PeakCount}\");\n",
    "\n",
    "var b = z.alias(); //reference ke z\n",
    "b[0,0] = torch.tensor(100);\n",
    "z.print();"
   ]
  },
  {
   "cell_type": "markdown",
   "metadata": {},
   "source": [
    "### Operasi Numerik\n",
    "Tensor dapat di operasikan secara matematika dengan operator dan fungsi-fungsi built-in torchsharp, berikut adalah contoh-contohnya:"
   ]
  },
  {
   "cell_type": "code",
   "execution_count": 76,
   "metadata": {
    "vscode": {
     "languageId": "csharp"
    }
   },
   "outputs": [
    {
     "name": "stdout",
     "output_type": "stream",
     "text": [
      "[2x5], type = Int64, device = cpu\n",
      " 1 2 3 4  5\n",
      " 6 7 8 9 10\n",
      "\n",
      "[2x5], type = Int64, device = cpu\n",
      " 2 2 2 2 2\n",
      " 2 2 2 2 2\n",
      "\n",
      "[], type = Int32, device = cpu, value = 3\n",
      "[2x5], type = Int64, device = cpu\n",
      "  5  7  9 11 13\n",
      " 15 17 19 21 23\n",
      "\n",
      "[2x5], type = Int64, device = cpu\n",
      "  2  4  6  8 10\n",
      " 12 14 16 18 20\n",
      "\n"
     ]
    },
    {
     "name": "stderr",
     "output_type": "stream",
     "text": [
      "\n",
      "warning CS1701: Assuming assembly reference 'System.Runtime.Numerics, Version=4.1.2.0, Culture=neutral, PublicKeyToken=b03f5f7f11d50a3a' used by 'TorchSharp' matches identity 'System.Runtime.Numerics, Version=6.0.0.0, Culture=neutral, PublicKeyToken=b03f5f7f11d50a3a' of 'System.Runtime.Numerics', you may need to supply runtime policy\n",
      "\n"
     ]
    }
   ],
   "source": [
    "var a = torch.arange(1,11).reshape(2,5);\n",
    "var b = torch.full(2,5,2);\n",
    "var c = torch.tensor(3);\n",
    "//operator, perkalian disini bukan perkalian matrix\n",
    "var d = a * b + c;\n",
    "a.print();\n",
    "b.print();\n",
    "c.print();\n",
    "d.print();\n",
    "\n"
   ]
  },
  {
   "cell_type": "code",
   "execution_count": 90,
   "metadata": {
    "vscode": {
     "languageId": "csharp"
    }
   },
   "outputs": [
    {
     "name": "stdout",
     "output_type": "stream",
     "text": [
      "[2x2], type = Int64, device = cpu\n",
      " 1 2\n",
      " 3 4\n",
      "\n",
      "[2x2], type = Int64, device = cpu\n",
      " 1 1\n",
      " 1 1\n",
      "\n",
      "[2x2], type = Int64, device = cpu\n",
      " 3 3\n",
      " 7 7\n",
      "\n",
      "[2x2], type = Int64, device = cpu\n",
      " 2 3\n",
      " 4 5\n",
      "\n",
      "[2x2], type = Int64, device = cpu\n",
      " 3 5\n",
      " 7 9\n",
      "\n"
     ]
    }
   ],
   "source": [
    "\n",
    "//operator matrix\n",
    "a = torch.arange(1,5).reshape(2,2);\n",
    "b = torch.full(2,2,1);\n",
    "a.print();\n",
    "b.print();\n",
    "d = a.mm(b);\n",
    "d.print();\n",
    "\n",
    "//menggunakan in-place operator\n",
    "var c = torch.arange(2,6).reshape(2,2);\n",
    "c.print();\n",
    "// a=a*b\n",
    "a.mul_(b).add_(c);\n",
    "a.print();"
   ]
  }
 ],
 "metadata": {
  "kernelspec": {
   "display_name": ".NET (C#)",
   "language": "C#",
   "name": ".net-csharp"
  },
  "language_info": {
   "file_extension": ".cs",
   "mimetype": "text/x-csharp",
   "name": "C#",
   "pygments_lexer": "csharp",
   "version": "9.0"
  },
  "orig_nbformat": 4
 },
 "nbformat": 4,
 "nbformat_minor": 2
}
